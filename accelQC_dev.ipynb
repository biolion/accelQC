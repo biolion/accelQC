{
 "metadata": {
  "name": "",
  "signature": "sha256:3d0f34bf3b22656feba3f4fbaa918de6e3d12be326e072a50d39f6326f1f8698"
 },
 "nbformat": 3,
 "nbformat_minor": 0,
 "worksheets": [
  {
   "cells": [
    {
     "cell_type": "heading",
     "level": 1,
     "metadata": {},
     "source": [
      "accelQC"
     ]
    },
    {
     "cell_type": "markdown",
     "metadata": {},
     "source": [
      "+ author: [Ieuan Clay](mailto://ieuan.clay@gmail.com?subject=accelQC)\n",
      "+ started: March 2015\n",
      "+ last update: April 2015\n",
      "\n",
      "accelQC is intended to provide basic QC functionality for checking raw data produced from 3D acelerometry devices\n",
      "\n",
      "### Functionality provided:\n",
      "+ Data import: see \"test_data_clean\"\n",
      "+ Overview of data\n",
      "  + wear time\n",
      "  + range and distributions\n",
      "+ \n",
      "\n",
      "### References\n",
      "+ [Rich et al, 2013](http://www.ncbi.nlm.nih.gov/pmc/articles/PMC3691227/)\n",
      "+ [Colley et al, 2010](http://www.ncbi.nlm.nih.gov/pubmed/20426228)\n",
      "+ [Markdown basics](https://help.github.com/articles/markdown-basics/)"
     ]
    },
    {
     "cell_type": "markdown",
     "metadata": {},
     "source": [
      "## Set up session"
     ]
    },
    {
     "cell_type": "code",
     "collapsed": false,
     "input": [
      "# analytics\n",
      "import numpy as np\n",
      "import pandas as pd\n",
      "import scipy.io as scio\n",
      "import scipy.signal as sp\n",
      "import seaborn as sb\n",
      "\n",
      "\n",
      "# utils\n",
      "import os"
     ],
     "language": "python",
     "metadata": {},
     "outputs": [],
     "prompt_number": 1
    },
    {
     "cell_type": "code",
     "collapsed": false,
     "input": [
      "# flags\n",
      "TEST = True\n",
      "VERBOSE = True"
     ],
     "language": "python",
     "metadata": {},
     "outputs": [],
     "prompt_number": 2
    },
    {
     "cell_type": "code",
     "collapsed": false,
     "input": [
      "# test data path\n",
      "# todo: flexible input\n",
      "if TEST :\n",
      "    datapath = os.path.abspath(\"test_data/\")\n",
      "else :\n",
      "    datapath = os.getcwd()\n",
      "print(datapath)"
     ],
     "language": "python",
     "metadata": {},
     "outputs": [
      {
       "output_type": "stream",
       "stream": "stdout",
       "text": [
        "C:\\Users\\Ieuan and Katharina\\ieuan_work\\delft\\dataQC\\test_data\n"
       ]
      }
     ],
     "prompt_number": 3
    },
    {
     "cell_type": "markdown",
     "metadata": {},
     "source": [
      "## Import data"
     ]
    },
    {
     "cell_type": "markdown",
     "metadata": {},
     "source": [
      "## Data Overview\n",
      "### Test data\n",
      "+ Test 1 and Test 2 are events with good data.\n",
      "+ Error 1 has the unexpected peaks every 1Hz in the spectrum.\n",
      "+ Error 2 has a bug caused by 32 to 16 bit conversion."
     ]
    },
    {
     "cell_type": "code",
     "collapsed": false,
     "input": [
      "if TEST :\n",
      "    # read in test file, indexing on first two columns (src and input file)\n",
      "    accel = pd.read_csv(os.path.join(datapath, 'test_data_full.tsv'), header=0, sep=\"\\t\", na_filter=False)\n",
      "    accel.reset_index()\n",
      "    accel.fillna('', inplace=True)\n",
      "    accel.set_index(['src', 'file'], inplace=True)\n",
      "else :\n",
      "    #TODO\n",
      "    print()\n",
      "accel.info()"
     ],
     "language": "python",
     "metadata": {},
     "outputs": [
      {
       "output_type": "stream",
       "stream": "stdout",
       "text": [
        "<class 'pandas.core.frame.DataFrame'>\n",
        "MultiIndex: 15842362 entries, (error_1.mat, 4097.log) to (test_2.txt, nan)\n",
        "Data columns (total 4 columns):\n",
        "t    float64\n",
        "x    float64\n",
        "y    float64\n",
        "z    float64\n",
        "dtypes: float64(4)"
       ]
      }
     ],
     "prompt_number": 44
    },
    {
     "cell_type": "markdown",
     "metadata": {},
     "source": [
      "## Basic Overview\n",
      "+ datasets\n",
      "+ weartime\n",
      "+ ranges"
     ]
    },
    {
     "cell_type": "code",
     "collapsed": false,
     "input": [
      "## reduce size of test dataset for simplicity\n",
      "## take first 2 files from each source (if more than two exist)\n",
      "if TEST :\n",
      "    accel = accel.ix[[val for sublist in accel.groupby(level=[0]).groups.values() for val in pd.Series(sublist).unique()[:2]]]\n",
      "    accel.info()"
     ],
     "language": "python",
     "metadata": {},
     "outputs": [
      {
       "output_type": "stream",
       "stream": "stdout",
       "text": [
        "<class 'pandas.core.frame.DataFrame'>\n",
        "MultiIndex: 957647 entries, (error_2.mat, accel_node000001.csv) to (test_2.txt, nan)\n",
        "Data columns (total 4 columns):\n",
        "t    957647 non-null float64\n",
        "x    957647 non-null float64\n",
        "y    957647 non-null float64\n",
        "z    957647 non-null float64\n",
        "dtypes: float64(4)"
       ]
      }
     ],
     "prompt_number": 45
    },
    {
     "cell_type": "code",
     "collapsed": false,
     "input": [
      "## summary of files present in each source\n",
      "accel.reset_index(level=\"file\").groupby(level=\"src\").aggregate({'file' : lambda x : len(np.unique(x))})"
     ],
     "language": "python",
     "metadata": {},
     "outputs": [
      {
       "html": [
        "<div style=\"max-height:1000px;max-width:1500px;overflow:auto;\">\n",
        "<table border=\"1\" class=\"dataframe\">\n",
        "  <thead>\n",
        "    <tr style=\"text-align: right;\">\n",
        "      <th></th>\n",
        "      <th>file</th>\n",
        "    </tr>\n",
        "    <tr>\n",
        "      <th>src</th>\n",
        "      <th></th>\n",
        "    </tr>\n",
        "  </thead>\n",
        "  <tbody>\n",
        "    <tr>\n",
        "      <th>error_1.mat</th>\n",
        "      <td> 2</td>\n",
        "    </tr>\n",
        "    <tr>\n",
        "      <th>error_2.mat</th>\n",
        "      <td> 2</td>\n",
        "    </tr>\n",
        "    <tr>\n",
        "      <th>test_1.mat</th>\n",
        "      <td> 1</td>\n",
        "    </tr>\n",
        "    <tr>\n",
        "      <th>test_2.txt</th>\n",
        "      <td> 1</td>\n",
        "    </tr>\n",
        "  </tbody>\n",
        "</table>\n",
        "</div>"
       ],
       "metadata": {},
       "output_type": "pyout",
       "prompt_number": 46,
       "text": [
        "             file\n",
        "src              \n",
        "error_1.mat     2\n",
        "error_2.mat     2\n",
        "test_1.mat      1\n",
        "test_2.txt      1"
       ]
      }
     ],
     "prompt_number": 46
    },
    {
     "cell_type": "code",
     "collapsed": false,
     "input": [
      "## summary of datasets per input source and file\n",
      "accel.groupby(level=['src','file']).aggregate({\n",
      "                                                't' : lambda x: len(x), # number of rows\n",
      "                                                'x' : lambda x: np.max(x) - np.min(x), # range\n",
      "                                                'y' : lambda x: np.max(x) - np.min(x), # range\n",
      "                                                'z' : lambda x: np.max(x) - np.min(x) # range\n",
      "                                                \n",
      "                                        })\n"
     ],
     "language": "python",
     "metadata": {},
     "outputs": [
      {
       "html": [
        "<div style=\"max-height:1000px;max-width:1500px;overflow:auto;\">\n",
        "<table border=\"1\" class=\"dataframe\">\n",
        "  <thead>\n",
        "    <tr style=\"text-align: right;\">\n",
        "      <th></th>\n",
        "      <th></th>\n",
        "      <th>x</th>\n",
        "      <th>y</th>\n",
        "      <th>t</th>\n",
        "      <th>z</th>\n",
        "    </tr>\n",
        "    <tr>\n",
        "      <th>src</th>\n",
        "      <th>file</th>\n",
        "      <th></th>\n",
        "      <th></th>\n",
        "      <th></th>\n",
        "      <th></th>\n",
        "    </tr>\n",
        "  </thead>\n",
        "  <tbody>\n",
        "    <tr>\n",
        "      <th rowspan=\"2\" valign=\"top\">error_1.mat</th>\n",
        "      <th>4097.log</th>\n",
        "      <td>  3514.000</td>\n",
        "      <td>  2627.000</td>\n",
        "      <td> 131876</td>\n",
        "      <td>  3479.000</td>\n",
        "    </tr>\n",
        "    <tr>\n",
        "      <th>4098.log</th>\n",
        "      <td>  1633.000</td>\n",
        "      <td>  2059.000</td>\n",
        "      <td> 131876</td>\n",
        "      <td>  2804.000</td>\n",
        "    </tr>\n",
        "    <tr>\n",
        "      <th rowspan=\"2\" valign=\"top\">error_2.mat</th>\n",
        "      <th>accel_node000001.csv</th>\n",
        "      <td> 65025.000</td>\n",
        "      <td> 65279.000</td>\n",
        "      <td> 233100</td>\n",
        "      <td> 65276.000</td>\n",
        "    </tr>\n",
        "    <tr>\n",
        "      <th>accel_node000002.csv</th>\n",
        "      <td> 64791.000</td>\n",
        "      <td> 65279.000</td>\n",
        "      <td> 247260</td>\n",
        "      <td> 65275.000</td>\n",
        "    </tr>\n",
        "    <tr>\n",
        "      <th>test_1.mat</th>\n",
        "      <th>nan</th>\n",
        "      <td>     9.617</td>\n",
        "      <td>    26.659</td>\n",
        "      <td>  14015</td>\n",
        "      <td>    23.199</td>\n",
        "    </tr>\n",
        "    <tr>\n",
        "      <th>test_2.txt</th>\n",
        "      <th>nan</th>\n",
        "      <td> 26625.000</td>\n",
        "      <td> 29697.000</td>\n",
        "      <td> 199520</td>\n",
        "      <td> 36609.000</td>\n",
        "    </tr>\n",
        "  </tbody>\n",
        "</table>\n",
        "</div>"
       ],
       "metadata": {},
       "output_type": "pyout",
       "prompt_number": 47,
       "text": [
        "                                          x          y       t          z\n",
        "src         file                                                         \n",
        "error_1.mat 4097.log               3514.000   2627.000  131876   3479.000\n",
        "            4098.log               1633.000   2059.000  131876   2804.000\n",
        "error_2.mat accel_node000001.csv  65025.000  65279.000  233100  65276.000\n",
        "            accel_node000002.csv  64791.000  65279.000  247260  65275.000\n",
        "test_1.mat  nan                       9.617     26.659   14015     23.199\n",
        "test_2.txt  nan                   26625.000  29697.000  199520  36609.000"
       ]
      }
     ],
     "prompt_number": 47
    },
    {
     "cell_type": "markdown",
     "metadata": {},
     "source": [
      "## Spectral Density Estimation"
     ]
    },
    {
     "cell_type": "code",
     "collapsed": false,
     "input": [
      "# http://docs.scipy.org/doc/scipy-dev/reference/generated/scipy.signal.welch.html#scipy.signal.welch"
     ],
     "language": "python",
     "metadata": {},
     "outputs": []
    }
   ],
   "metadata": {}
  }
 ]
}